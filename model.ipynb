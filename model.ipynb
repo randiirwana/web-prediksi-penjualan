{
 "cells": [
  {
   "cell_type": "markdown",
   "id": "884d8b30",
   "metadata": {},
   "source": [
    "# Model Training Notebook\n",
    "\n",
    "File ini berisi proses training model LSTM untuk prediksi penjualan.\n",
    "\n",
    "**Catatan:** File ini sudah dihapus untuk mengurangi ukuran image deployment. Jika diperlukan untuk development, silakan buat ulang atau restore dari backup.\n"
   ]
  }
 ],
 "metadata": {
  "language_info": {
   "name": "python"
  }
 },
 "nbformat": 4,
 "nbformat_minor": 5
}
