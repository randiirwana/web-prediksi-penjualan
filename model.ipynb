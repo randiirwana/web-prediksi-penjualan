{
 "cells": [
  {
   "cell_type": "markdown",
   "id": "884d8b30",
   "metadata": {},
   "source": [
    "# Model Training Notebook\n",
    "\n",
    "File ini berisi proses training model LSTM untuk prediksi penjualan.\n",
    "\n",
    "**Catatan:** File ini sudah dihapus untuk mengurangi ukuran image deployment. Jika diperlukan untuk development, silakan buat ulang atau restore dari backup.\n"
   ]
  }
 ],
 "metadata": {
  "kernelspec": {
   "display_name": "Python 3",
   "language": "python",
   "name": "python3"
  },
  "language_info": {
   "name": "python",
   "version": "3.12.3"
  }
 },
 "nbformat": 4,
 "nbformat_minor": 5
}
